{
 "cells": [
  {
   "cell_type": "code",
   "execution_count": 24,
   "metadata": {},
   "outputs": [
    {
     "name": "stdout",
     "output_type": "stream",
     "text": [
      "Requirement already satisfied: numpy in c:\\anaconda2\\lib\\site-packages\n",
      "Requirement already satisfied: pandas in c:\\anaconda2\\lib\\site-packages\n",
      "Requirement already satisfied: python-dateutil in c:\\anaconda2\\lib\\site-packages (from pandas)\n",
      "Requirement already satisfied: pytz>=2011k in c:\\anaconda2\\lib\\site-packages (from pandas)\n",
      "Requirement already satisfied: numpy>=1.7.0 in c:\\anaconda2\\lib\\site-packages (from pandas)\n",
      "Requirement already satisfied: six>=1.5 in c:\\anaconda2\\lib\\site-packages (from python-dateutil->pandas)\n",
      "Collecting random\n"
     ]
    },
    {
     "name": "stderr",
     "output_type": "stream",
     "text": [
      "  Could not find a version that satisfies the requirement random (from versions: )\n",
      "No matching distribution found for random\n"
     ]
    },
    {
     "name": "stdout",
     "output_type": "stream",
     "text": [
      "Collecting gzip\n"
     ]
    },
    {
     "name": "stderr",
     "output_type": "stream",
     "text": [
      "  Could not find a version that satisfies the requirement gzip (from versions: )\n",
      "No matching distribution found for gzip\n"
     ]
    },
    {
     "name": "stdout",
     "output_type": "stream",
     "text": [
      "Requirement already satisfied: matplotlib in c:\\anaconda2\\lib\\site-packages\n",
      "Requirement already satisfied: numpy>=1.7.1 in c:\\anaconda2\\lib\\site-packages (from matplotlib)\n",
      "Requirement already satisfied: six>=1.10 in c:\\anaconda2\\lib\\site-packages (from matplotlib)\n",
      "Requirement already satisfied: python-dateutil in c:\\anaconda2\\lib\\site-packages (from matplotlib)\n",
      "Requirement already satisfied: functools32 in c:\\anaconda2\\lib\\site-packages (from matplotlib)\n",
      "Requirement already satisfied: pytz in c:\\anaconda2\\lib\\site-packages (from matplotlib)\n",
      "Requirement already satisfied: cycler>=0.10 in c:\\anaconda2\\lib\\site-packages (from matplotlib)\n",
      "Requirement already satisfied: pyparsing!=2.0.4,!=2.1.2,!=2.1.6,>=1.5.6 in c:\\anaconda2\\lib\\site-packages (from matplotlib)\n"
     ]
    }
   ],
   "source": [
    "!pip install numpy\n",
    "!pip install pandas\n",
    "!pip install random\n",
    "!pip install gzip\n",
    "!pip install matplotlib\n",
    "\n",
    "import matplotlib.pyplot as plt\n",
    "import numpy as np\n",
    "import pandas as pd\n",
    "import gzip\n",
    "import random\n"
   ]
  },
  {
   "cell_type": "code",
   "execution_count": 7,
   "metadata": {},
   "outputs": [
    {
     "name": "stdout",
     "output_type": "stream",
     "text": [
      "[[  1.00000000e+00   1.20000000e-05   0.00000000e+00   6.00000000e-06\n",
      "    2.30000000e-05   9.99958000e-01]\n",
      " [  1.00000000e+00   8.89320000e-02   3.91500000e-03   5.92269000e-01\n",
      "    3.14084000e-01   8.01000000e-04]\n",
      " [  1.00000000e+00   2.93000000e-04   2.00000000e-06   4.11000000e-04\n",
      "    7.70000000e-04   9.98524000e-01]\n",
      " [  1.00000000e+00   1.18890000e-02   8.63387000e-01   3.85000000e-04\n",
      "    1.24338000e-01   1.00000000e-06]\n",
      " [  1.00000000e+00   5.40000000e-05   2.00000000e-06   2.20000000e-05\n",
      "    8.70000000e-05   9.99835000e-01]\n",
      " [  1.00000000e+00   4.03000000e-04   9.00000000e-06   1.09000000e-04\n",
      "    2.88000000e-04   9.99191000e-01]\n",
      " [  1.00000000e+00   3.94600000e-01   1.83870000e-02   2.29936000e-01\n",
      "    3.43983000e-01   1.30940000e-02]\n",
      " [  1.00000000e+00   2.37800000e-03   5.70000000e-05   1.28100000e-03\n",
      "    2.89300000e-03   9.93391000e-01]\n",
      " [  1.00000000e+00   1.78600000e-02   2.86000000e-04   8.13900000e-03\n",
      "    1.17030000e-02   9.62012000e-01]\n",
      " [  1.00000000e+00   7.18476000e-01   2.32000000e-02   9.84860000e-02\n",
      "    1.54794000e-01   5.04300000e-03]]\n"
     ]
    }
   ],
   "source": [
    "# part 1\n",
    "# unzip and read the first part of the data into a matrix\n",
    "A = np.zeros((4681992, 6))\n",
    "with gzip.open('ydata-fp-td-clicks-v1_0.20090501.gz', 'r') as f:\n",
    "    for i, line in enumerate(f):\n",
    "        user_features_str = line.split('|', 2)[1]\n",
    "        user_features = user_features_str.split(' ')[1:7]\n",
    "        for feature in user_features:\n",
    "            l = feature.split(':')\n",
    "            A[i, int(l[0]) - 1] = float(l[1])\n",
    "    print(A[:10,:])\n",
    "    #for i, l in enumerate(f):\n",
    "    #    pass\n",
    "    #print(i + 1)\n",
    "    "
   ]
  },
  {
   "cell_type": "code",
   "execution_count": 38,
   "metadata": {},
   "outputs": [
    {
     "name": "stdout",
     "output_type": "stream",
     "text": [
      "[ 1.  0.  0.  0.  0.  0.]\n",
      "[ 1.        0.980105  0.999996  0.999978  0.998366  1.      ]\n"
     ]
    }
   ],
   "source": [
    "print(A.min(axis=0))\n",
    "print(A.max(axis=0))"
   ]
  },
  {
   "cell_type": "code",
   "execution_count": 39,
   "metadata": {
    "collapsed": true
   },
   "outputs": [],
   "source": [
    "def init_k_means_rand(k):\n",
    "    centers = []\n",
    "    for i in range(0,k):\n",
    "        centers.append(np.random.rand(1,6))\n",
    "    return centers"
   ]
  },
  {
   "cell_type": "code",
   "execution_count": 40,
   "metadata": {
    "collapsed": true
   },
   "outputs": [],
   "source": [
    "def k_means_pp(k, vects):\n",
    "    centers = []\n",
    "    probs = np.zeros((4681992,1))\n",
    "    tot = 0\n",
    "    #pick first center uniformly at random in R6\n",
    "    centers.append(np.random.rand(1,6))\n",
    "    \n",
    "    #Calculate the distance between each point and the random center\n",
    "    for i in range(probs.shape[0]):\n",
    "        probs[i] = np.linalg.norm(vects[i]-centers[0])\n",
    "        #calculate the summation which will be used to calculate the probability\n",
    "        #dist\n",
    "        tot += probs[i]\n",
    "        \n",
    "    #Calculate the probability distribution\n",
    "    if tot > 0:\n",
    "        for i in range(probs.shape[0]):\n",
    "            probs[i] /= tot\n",
    "    \n",
    "    #Sample the remaining k-1 centers\n",
    "    rand = np.random.rand(k-1,1)\n",
    "    for i in range(rand.shape[0]):\n",
    "        counter = 0\n",
    "        j = -1\n",
    "        while counter <= rand[i]:\n",
    "            j += 1\n",
    "            counter += probs[j]\n",
    "        centers.append(vects[j,:])\n",
    "\n",
    "    return centers\n",
    "        \n",
    "        \n",
    "    \n",
    "        \n",
    "        \n",
    "    \n",
    "        \n",
    "    \n",
    "    "
   ]
  },
  {
   "cell_type": "code",
   "execution_count": 37,
   "metadata": {
    "collapsed": true
   },
   "outputs": [],
   "source": [
    "def cluster_step(features, centers, batch_size, min_errs, mean_errs, max_errs):\n",
    "    samp = np.random.randint(features.shape[0], size=batch_size)\n",
    "    new_centers = [np.zeros((1,6)) for k in centers]\n",
    "    centroid_sizes = [0]*len(centers)\n",
    "    min_err = 10000\n",
    "    mean_err = 0\n",
    "    max_err = 0\n",
    "    for i in range(batch_size):\n",
    "        min_dist = 10\n",
    "        closest = -1\n",
    "        for j, vector in enumerate(centers):\n",
    "            d = np.linalg.norm(features[samp[i], :] - vector)\n",
    "            if d < min_dist:\n",
    "                min_dist = d\n",
    "                closest = j\n",
    "       #here we keep track of each of the min, max, and mean distances for\n",
    "       #a given batch\n",
    "        mean_err += min_dist\n",
    "        if min_dist < min_err:\n",
    "            min_err = min_dist\n",
    "        if min_dist > max_err:\n",
    "            max_err = min_dist\n",
    "                      \n",
    "        new_centers[closest] += features[samp[i], :]\n",
    "        centroid_sizes[closest] += 1\n",
    "        \n",
    "    mean_errs.append(mean_err / batch_size)\n",
    "    min_errs.append(min_err)\n",
    "    max_errs.append(max_err)\n",
    "    \n",
    "    for i, vector in enumerate(new_centers):\n",
    "        if not centroid_sizes[i] == 0:\n",
    "            vector /= centroid_sizes[i]\n",
    "    return new_centers"
   ]
  },
  {
   "cell_type": "code",
   "execution_count": 41,
   "metadata": {},
   "outputs": [],
   "source": [
    "min_errors = {}\n",
    "mean_errors = {}\n",
    "max_errors = {}\n",
    "k_vals = [2, 10, 25, 50, 100, 200]\n",
    "for k in k_vals:\n",
    "    min_errs = []\n",
    "    mean_errs = []\n",
    "    max_errs = []\n",
    "    centers = init_k_means_rand(k)\n",
    "    for i in range(30):\n",
    "        nc = cluster_step(A, centers, 100000, min_errs, mean_errs, max_errs)\n",
    "        centers = nc\n",
    "        \n",
    "    min_errors[k] = min_errs\n",
    "    mean_errors[k] = mean_errs\n",
    "    max_errors[k] = max_errs\n",
    "    "
   ]
  },
  {
   "cell_type": "code",
   "execution_count": 56,
   "metadata": {},
   "outputs": [],
   "source": [
    "plt.clf\n",
    "\n",
    "plt.figure(1)\n",
    "plt.plot([x for x in min_errors[2]], label=\"k=2\")\n",
    "plt.plot([x for x in min_errors[10]], label=\"k=10\")\n",
    "plt.plot([x for x in min_errors[25]], label=\"k=25\")\n",
    "plt.plot([x for x in min_errors[50]], label=\"k=50\")\n",
    "plt.plot([x for x in min_errors[100]], label=\"k=100\")\n",
    "plt.plot([x for x in min_errors[200]], label=\"k=200\")\n",
    "plt.legend()\n",
    "plt.suptitle('Min Errors vs. # Iterations (Random)')\n",
    "plt.xlabel('# Iterations')\n",
    "plt.ylabel('Error')\n",
    "#plt.show()\n",
    "plt.savefig(\"min_ks.pdf\")\n",
    "\n",
    "plt.figure(2)\n",
    "plt.plot([x for x in mean_errors[2]], label=\"k=2\")\n",
    "plt.plot([x for x in mean_errors[10]], label=\"k=10\")\n",
    "plt.plot([x for x in mean_errors[25]], label=\"k=25\")\n",
    "plt.plot([x for x in mean_errors[50]], label=\"k=50\")\n",
    "plt.plot([x for x in mean_errors[100]], label=\"k=100\")\n",
    "plt.plot([x for x in mean_errors[200]], label=\"k=200\")\n",
    "plt.legend()\n",
    "plt.suptitle('Mean Errors vs. # Iterations (Random)')\n",
    "plt.xlabel('# Iterations')\n",
    "plt.ylabel('Error')\n",
    "#plt.show()\n",
    "plt.savefig(\"mean_ks.pdf\")\n",
    "\n",
    "plt.figure(3)\n",
    "plt.plot([x for x in max_errors[2]], label=\"k=2\")\n",
    "plt.plot([x for x in max_errors[10]], label=\"k=10\")\n",
    "plt.plot([x for x in max_errors[25]], label=\"k=25\")\n",
    "plt.plot([x for x in max_errors[50]], label=\"k=50\")\n",
    "plt.plot([x for x in max_errors[100]], label=\"k=100\")\n",
    "plt.plot([x for x in max_errors[200]], label=\"k=200\")\n",
    "plt.legend()\n",
    "plt.suptitle('Max Errors vs. # Iterations (Random)')\n",
    "plt.xlabel('# Iterations')\n",
    "plt.ylabel('Error')\n",
    "#plt.show()\n",
    "plt.savefig(\"max_ks.pdf\")\n",
    "\n"
   ]
  },
  {
   "cell_type": "code",
   "execution_count": 30,
   "metadata": {
    "collapsed": true
   },
   "outputs": [],
   "source": [
    "min_errors_pp = {}\n",
    "mean_errors_pp = {}\n",
    "max_errors_pp = {}\n",
    "k_vals = [2, 10, 25, 50, 100, 200]\n",
    "for k in k_vals:\n",
    "    min_errs = []\n",
    "    mean_errs = []\n",
    "    max_errs = []\n",
    "    centers = k_means_pp(k, A)\n",
    "    for i in range(30):\n",
    "        nc = cluster_step(A, centers, 100000, min_errs, mean_errs, max_errs)\n",
    "        centers = nc\n",
    "        \n",
    "    min_errors_pp[k] = min_errs\n",
    "    mean_errors_pp[k] = mean_errs\n",
    "    max_errors_pp[k] = max_errs\n",
    "    "
   ]
  },
  {
   "cell_type": "code",
   "execution_count": 42,
   "metadata": {},
   "outputs": [
    {
     "ename": "NameError",
     "evalue": "name 'min_errors_pp' is not defined",
     "output_type": "error",
     "traceback": [
      "\u001b[1;31m---------------------------------------------------------------------------\u001b[0m",
      "\u001b[1;31mNameError\u001b[0m                                 Traceback (most recent call last)",
      "\u001b[1;32m<ipython-input-42-49c098385201>\u001b[0m in \u001b[0;36m<module>\u001b[1;34m()\u001b[0m\n\u001b[1;32m----> 1\u001b[1;33m \u001b[0mplt\u001b[0m\u001b[1;33m.\u001b[0m\u001b[0mplot\u001b[0m\u001b[1;33m(\u001b[0m\u001b[1;33m[\u001b[0m\u001b[0mx\u001b[0m\u001b[1;33m/\u001b[0m\u001b[1;36m100000\u001b[0m \u001b[1;32mfor\u001b[0m \u001b[0mx\u001b[0m \u001b[1;32min\u001b[0m \u001b[0mmin_errors_pp\u001b[0m\u001b[1;33m[\u001b[0m\u001b[1;36m2\u001b[0m\u001b[1;33m]\u001b[0m\u001b[1;33m]\u001b[0m\u001b[1;33m,\u001b[0m \u001b[0mlabel\u001b[0m\u001b[1;33m=\u001b[0m\u001b[1;34m\"k=2\"\u001b[0m\u001b[1;33m)\u001b[0m\u001b[1;33m\u001b[0m\u001b[0m\n\u001b[0m\u001b[0;32m      2\u001b[0m \u001b[0mplt\u001b[0m\u001b[1;33m.\u001b[0m\u001b[0mplot\u001b[0m\u001b[1;33m(\u001b[0m\u001b[1;33m[\u001b[0m\u001b[0mx\u001b[0m\u001b[1;33m/\u001b[0m\u001b[1;36m100000\u001b[0m \u001b[1;32mfor\u001b[0m \u001b[0mx\u001b[0m \u001b[1;32min\u001b[0m \u001b[0mmin_errors_pp\u001b[0m\u001b[1;33m[\u001b[0m\u001b[1;36m10\u001b[0m\u001b[1;33m]\u001b[0m\u001b[1;33m]\u001b[0m\u001b[1;33m,\u001b[0m \u001b[0mlabel\u001b[0m\u001b[1;33m=\u001b[0m\u001b[1;34m\"k=10\"\u001b[0m\u001b[1;33m)\u001b[0m\u001b[1;33m\u001b[0m\u001b[0m\n\u001b[0;32m      3\u001b[0m \u001b[0mplt\u001b[0m\u001b[1;33m.\u001b[0m\u001b[0mplot\u001b[0m\u001b[1;33m(\u001b[0m\u001b[1;33m[\u001b[0m\u001b[0mx\u001b[0m\u001b[1;33m/\u001b[0m\u001b[1;36m100000\u001b[0m \u001b[1;32mfor\u001b[0m \u001b[0mx\u001b[0m \u001b[1;32min\u001b[0m \u001b[0mmin_errors_pp\u001b[0m\u001b[1;33m[\u001b[0m\u001b[1;36m25\u001b[0m\u001b[1;33m]\u001b[0m\u001b[1;33m]\u001b[0m\u001b[1;33m,\u001b[0m \u001b[0mlabel\u001b[0m\u001b[1;33m=\u001b[0m\u001b[1;34m\"k=25\"\u001b[0m\u001b[1;33m)\u001b[0m\u001b[1;33m\u001b[0m\u001b[0m\n\u001b[0;32m      4\u001b[0m \u001b[0mplt\u001b[0m\u001b[1;33m.\u001b[0m\u001b[0mplot\u001b[0m\u001b[1;33m(\u001b[0m\u001b[1;33m[\u001b[0m\u001b[0mx\u001b[0m\u001b[1;33m/\u001b[0m\u001b[1;36m100000\u001b[0m \u001b[1;32mfor\u001b[0m \u001b[0mx\u001b[0m \u001b[1;32min\u001b[0m \u001b[0mmin_errors_pp\u001b[0m\u001b[1;33m[\u001b[0m\u001b[1;36m50\u001b[0m\u001b[1;33m]\u001b[0m\u001b[1;33m]\u001b[0m\u001b[1;33m,\u001b[0m \u001b[0mlabel\u001b[0m\u001b[1;33m=\u001b[0m\u001b[1;34m\"k=50\"\u001b[0m\u001b[1;33m)\u001b[0m\u001b[1;33m\u001b[0m\u001b[0m\n\u001b[0;32m      5\u001b[0m \u001b[0mplt\u001b[0m\u001b[1;33m.\u001b[0m\u001b[0mplot\u001b[0m\u001b[1;33m(\u001b[0m\u001b[1;33m[\u001b[0m\u001b[0mx\u001b[0m\u001b[1;33m/\u001b[0m\u001b[1;36m100000\u001b[0m \u001b[1;32mfor\u001b[0m \u001b[0mx\u001b[0m \u001b[1;32min\u001b[0m \u001b[0mmin_errors_pp\u001b[0m\u001b[1;33m[\u001b[0m\u001b[1;36m100\u001b[0m\u001b[1;33m]\u001b[0m\u001b[1;33m]\u001b[0m\u001b[1;33m,\u001b[0m \u001b[0mlabel\u001b[0m\u001b[1;33m=\u001b[0m\u001b[1;34m\"k=100\"\u001b[0m\u001b[1;33m)\u001b[0m\u001b[1;33m\u001b[0m\u001b[0m\n",
      "\u001b[1;31mNameError\u001b[0m: name 'min_errors_pp' is not defined"
     ]
    }
   ],
   "source": [
    "plt.clf\n",
    "plt.figure(1)\n",
    "plt.plot([x for x in min_errors_pp[2]], label=\"k=2\")\n",
    "plt.plot([x for x in min_errors_pp[10]], label=\"k=10\")\n",
    "plt.plot([x for x in min_errors_pp[25]], label=\"k=25\")\n",
    "plt.plot([x for x in min_errors_pp[50]], label=\"k=50\")\n",
    "plt.plot([x for x in min_errors_pp[100]], label=\"k=100\")\n",
    "plt.plot([x for x in min_errors_pp[200]], label=\"k=200\")\n",
    "plt.legend()\n",
    "plt.suptitle('Min Errors vs. # Iterations (++)')\n",
    "plt.xlabel('# Iterations')\n",
    "plt.ylabel('Error')\n",
    "plt.show()\n",
    "#plt.savefig(\"min_ks_pp.pdf\")\n",
    "\n",
    "plt.figure(2)\n",
    "plt.plot([x for x in mean_errors_pp[2]], label=\"k=2\")\n",
    "plt.plot([x for x in mean_errors_pp[10]], label=\"k=10\")\n",
    "plt.plot([x for x in mean_errors_pp[25]], label=\"k=25\")\n",
    "plt.plot([x for x in mean_errors_pp[50]], label=\"k=50\")\n",
    "plt.plot([x for x in mean_errors_pp[100]], label=\"k=100\")\n",
    "plt.plot([x for x in mean_errors_pp[200]], label=\"k=200\")\n",
    "plt.legend()\n",
    "plt.suptitle('Mean Errors vs. # Iterations (++)')\n",
    "plt.xlabel('# Iterations')\n",
    "plt.ylabel('Error')\n",
    "plt.show()\n",
    "#plt.savefig(\"mean_ks_pp.pdf\")\n",
    "\n",
    "plt.figure(3)\n",
    "plt.plot([x for x in max_errors_pp[2]], label=\"k=2\")\n",
    "plt.plot([x for x in max_errors_pp[10]], label=\"k=10\")\n",
    "plt.plot([x for x in max_errors_pp[25]], label=\"k=25\")\n",
    "plt.plot([x for x in max_errors_pp[50]], label=\"k=50\")\n",
    "plt.plot([x for x in max_errors_pp[100]], label=\"k=100\")\n",
    "plt.plot([x for x in max_errors_pp[200]], label=\"k=200\")\n",
    "plt.legend()\n",
    "plt.suptitle('Max Errors vs. # Iterations (++)')\n",
    "plt.xlabel('# Iterations')\n",
    "plt.ylabel('Error')\n",
    "plt.show()\n",
    "#plt.savefig(\"max_ks_pp.pdf\")\n",
    "\n"
   ]
  },
  {
   "cell_type": "code",
   "execution_count": 57,
   "metadata": {},
   "outputs": [],
   "source": [
    "#write errors to file\n",
    "with open(\"mean_errs.txt\", \"w\") as f:\n",
    "    for k in mean_errors.keys():\n",
    "        s = str(k) + \",\"\n",
    "        s += \",\".join([str(x) for x in mean_errors[k]])\n",
    "        s += \"\\n\"\n",
    "        f.write(s)\n",
    "        \n",
    "\n",
    "with open(\"min_errs.txt\", \"w\") as f:\n",
    "    for k in min_errors.keys():\n",
    "        s = str(k) + \",\"\n",
    "        s += \",\".join([str(x) for x in min_errors[k]])\n",
    "        s += \"\\n\"\n",
    "        f.write(s)\n",
    "        \n",
    "\n",
    "with open(\"max_errs.txt\", \"w\") as f:\n",
    "    for k in max_errors.keys():\n",
    "        s = str(k) + \",\"\n",
    "        s += \",\".join([str(x) for x in max_errors[k]])\n",
    "        s += \"\\n\"\n",
    "        f.write(s)"
   ]
  },
  {
   "cell_type": "code",
   "execution_count": 35,
   "metadata": {
    "collapsed": true
   },
   "outputs": [],
   "source": [
    "#write errors to file\n",
    "with open(\"mean_errs_pp.txt\", \"w\") as f:\n",
    "    for k in mean_errors_pp.keys():\n",
    "        s = str(k) + \",\"\n",
    "        s += \",\".join([str(x) for x in mean_errors_pp[k]])\n",
    "        s += \"\\n\"\n",
    "        f.write(s)\n",
    "        \n",
    "\n",
    "with open(\"min_errs_pp.txt\", \"w\") as f:\n",
    "    for k in min_errors_pp.keys():\n",
    "        s = str(k) + \",\"\n",
    "        s += \",\".join([str(x) for x in min_errors_pp[k]])\n",
    "        s += \"\\n\"\n",
    "        f.write(s)\n",
    "        \n",
    "\n",
    "with open(\"max_errs_pp.txt\", \"w\") as f:\n",
    "    for k in max_errors_pp.keys():\n",
    "        s = str(k) + \",\"\n",
    "        s += \",\".join([str(x) for x in max_errors_pp[k]])\n",
    "        s += \"\\n\"\n",
    "        f.write(s)"
   ]
  },
  {
   "cell_type": "code",
   "execution_count": 59,
   "metadata": {},
   "outputs": [
    {
     "name": "stdout",
     "output_type": "stream",
     "text": [
      "{2: [1.31071548135, 0.990000829233, 0.989528653701, 0.995032256954, 1.00589490501, 1.02305901715, 0.9529800288, 0.899029729672, 0.894097542117, 0.906494256129, 0.943716346324, 0.958793814045, 0.960152968825, 0.961680734544, 0.96380644939, 0.963650223512, 0.965737542152, 0.965789757451, 0.964515562131, 0.963882387352, 0.963066408611, 0.964957500033, 0.963049706962, 0.962438860102, 0.964690204256, 0.964215255977, 0.963379150789, 0.964985561322, 0.965524634733, 0.96749756862], 100: [0.788403088355, 0.590947633647, 0.60424224016, 0.579553940913, 0.518956504165, 0.507117626785, 0.500369980553, 0.49854871539, 0.506099938989, 0.510798155091, 0.504998842569, 0.510052357731, 0.511388712379, 0.505235914618, 0.510420841984, 0.505472843697, 0.516518406392, 0.516730269091, 0.516105518007, 0.502178716866, 0.522133012956, 0.513686059773, 0.515024083216, 0.514071600012, 0.528708770631, 0.516238550065, 0.514495065613, 0.520866707975, 0.518960840862, 0.516293558978], 200: [0.653164145251, 0.444492022561, 0.412184774655, 0.383221440392, 0.368846244309, 0.359625238154, 0.37308914706, 0.357942679879, 0.354048506364, 0.362450633733, 0.369260979448, 0.37323908473, 0.37573000254, 0.379391414684, 0.382376325611, 0.384368943292, 0.393803047904, 0.390933076448, 0.399686683942, 0.398592021511, 0.399555450066, 0.398982888458, 0.403174504641, 0.406899900968, 0.403605849201, 0.408958003797, 0.409794382048, 0.408159524043, 0.408756414719, 0.401754128795], 10: [1.18773307125, 0.937091670316, 0.909386347331, 0.887340129615, 0.852693666442, 0.777471767317, 0.499762368335, 0.507137804731, 0.511695002437, 0.504543768244, 0.510920477429, 0.510105160485, 0.504583662033, 0.512404379495, 0.509367003458, 0.511224132774, 0.508885614221, 0.511461537854, 0.507177287704, 0.512846139394, 0.504758283001, 0.509759126166, 0.509247833913, 0.504412768297, 0.504551672229, 0.511264537625, 0.513190827067, 0.507242258133, 0.508458747535, 0.507596405338], 50: [0.945832477394, 0.653202278082, 0.495587797802, 0.493579239026, 0.491377250131, 0.505262194183, 0.50507598087, 0.516283721186, 0.508649363599, 0.496256036621, 0.512214982828, 0.51520283064, 0.501580491109, 0.500924074904, 0.509430861357, 0.509539344224, 0.50467412372, 0.506031870381, 0.507167693237, 0.499357463136, 0.509609987311, 0.509858083585, 0.509898750989, 0.506492336836, 0.513355764377, 0.517701980555, 0.518204892712, 0.514958179111, 0.514065168522, 0.519307377239], 25: [0.971405503275, 0.624791895067, 0.508656977109, 0.504143606103, 0.518617700534, 0.520755773731, 0.524065687488, 0.53383949681, 0.525238884687, 0.534614628524, 0.526898181498, 0.512491599116, 0.526472425207, 0.530755521957, 0.53352254455, 0.524159739749, 0.531766623607, 0.531612577926, 0.535104628843, 0.533134919755, 0.531885296492, 0.539171411869, 0.531461718883, 0.524033900611, 0.539372374278, 0.536827878786, 0.539919240504, 0.537864993355, 0.536804341693, 0.537289561272]}\n",
      "{2: [1.07434128779, 0.988342930783, 1.01037538794, 1.0061572823, 0.91710610803, 0.895028466506, 0.901101324674, 0.928148278886, 0.954577737064, 0.958074481368, 0.96202742319, 0.962426781677, 0.963286351436, 0.965031771874, 0.962609857382, 0.961934107301, 0.964284503084, 0.963845153924, 0.964777832934, 0.963028515203, 0.965408680519, 0.964205974596, 0.965647532168, 0.962641647753, 0.965074011448, 0.963325483941, 0.963805911785, 0.963085718983, 0.96344086058, 0.963914862219], 100: [0.53521917544, 0.503529587129, 0.480891318961, 0.480700788079, 0.484801020702, 0.462723266291, 0.478186178464, 0.476196319714, 0.437511586081, 0.44809888, 0.415879433031, 0.410925410382, 0.396315426838, 0.381764022852, 0.36194413625, 0.355123439113, 0.34560167708, 0.338296374874, 0.32697879861, 0.335835660775, 0.338602180625, 0.344479306592, 0.326848648975, 0.342825739543, 0.339616357495, 0.329107663064, 0.335107866633, 0.345694196701, 0.328627482143, 0.33361318826], 200: [0.509566983035, 0.447969186262, 0.364633735934, 0.336915526199, 0.340377990753, 0.328743538731, 0.325821884822, 0.322080928158, 0.316814932003, 0.317313392127, 0.308072595359, 0.305888886684, 0.321285471588, 0.332719039433, 0.321599222186, 0.295541347012, 0.326923508798, 0.324324466397, 0.311901956543, 0.301963847807, 0.306358776586, 0.320030167853, 0.319592318116, 0.307513638235, 0.318412707132, 0.320610621793, 0.323056202719, 0.29937498921, 0.30671112576, 0.307093986427], 10: [0.965799949473, 0.613634565619, 0.555081234018, 0.523500550635, 0.520840829557, 0.528662466666, 0.531183664633, 0.536072699701, 0.526560947848, 0.526791537676, 0.526953065234, 0.533113067179, 0.533977382044, 0.527484089083, 0.52212378354, 0.533051435712, 0.53102826167, 0.524481771641, 0.532613636319, 0.53568563253, 0.514156488525, 0.524492956671, 0.527052670942, 0.525982879262, 0.528959126501, 0.533214657893, 0.526676446027, 0.529690892282, 0.522399414103, 0.534244004824], 50: [0.576641693395, 0.508296446441, 0.508813950989, 0.499932078577, 0.499355069265, 0.494000361474, 0.499002619002, 0.502430674942, 0.496623027916, 0.500030855488, 0.504447249222, 0.500143939417, 0.493704981374, 0.484166280293, 0.487460083282, 0.49156098115, 0.500818539994, 0.493370348893, 0.489512512411, 0.474615760594, 0.473654208821, 0.464795731745, 0.453354242401, 0.455676626113, 0.449625425068, 0.455520075899, 0.445677466326, 0.446189375955, 0.444748763826, 0.44534040743], 25: [0.630648934671, 0.516794478727, 0.494786484548, 0.499130360678, 0.503748761582, 0.501144694845, 0.496306497515, 0.50211079187, 0.494496430802, 0.496061349741, 0.512305296562, 0.496219945233, 0.516793826997, 0.508485670034, 0.519705392611, 0.508761004377, 0.504108718502, 0.516551142503, 0.515811711249, 0.492388459281, 0.478254341583, 0.492504660691, 0.504148452351, 0.510844601691, 0.5250610133, 0.509236338344, 0.508859502241, 0.497179398064, 0.477669964192, 0.476665169964]}\n"
     ]
    }
   ],
   "source": [
    "#build comparison graph\n",
    "max_rand = {}\n",
    "with open(\"max_errs.txt\") as max_errs_file:\n",
    "    for line in max_errs_file:\n",
    "        sep = line.split(\",\", 1)\n",
    "        max_rand[int(sep[0])] = [float(x) for x in sep[1].split(\",\")]\n",
    "        \n",
    "max_pp = {}\n",
    "with open(\"max_errs_pp.txt\") as max_errs_file:\n",
    "    for line in max_errs_file:\n",
    "        sep = line.split(\",\", 1)\n",
    "        max_pp[int(sep[0])] = [float(x) for x in sep[1].split(\",\")]\n",
    "print(max_rand)\n",
    "print(max_pp)"
   ]
  },
  {
   "cell_type": "code",
   "execution_count": 73,
   "metadata": {},
   "outputs": [],
   "source": [
    "plt.clf()\n",
    "plt.figure(1)\n",
    "plt.plot(max_rand[200], label=\"random\")\n",
    "plt.plot(max_pp[200], label=\"K++\")\n",
    "plt.legend()\n",
    "plt.suptitle('K++ vs Random (max)')\n",
    "plt.xlabel('# Iterations')\n",
    "plt.ylabel('Error')\n",
    "plt.savefig(\"max_comp.pdf\")"
   ]
  },
  {
   "cell_type": "code",
   "execution_count": 74,
   "metadata": {
    "collapsed": true
   },
   "outputs": [],
   "source": [
    "min_rand = {}\n",
    "with open(\"min_errs.txt\") as min_errs_file:\n",
    "    for line in min_errs_file:\n",
    "        sep = line.split(\",\", 1)\n",
    "        min_rand[int(sep[0])] = [float(x) for x in sep[1].split(\",\")]\n",
    "        \n",
    "min_pp = {}\n",
    "with open(\"min_errs_pp.txt\") as min_errs_file:\n",
    "    for line in min_errs_file:\n",
    "        sep = line.split(\",\", 1)\n",
    "        min_pp[int(sep[0])] = [float(x) for x in sep[1].split(\",\")]"
   ]
  },
  {
   "cell_type": "code",
   "execution_count": 75,
   "metadata": {
    "collapsed": true
   },
   "outputs": [],
   "source": [
    "plt.clf()\n",
    "plt.figure(1)\n",
    "plt.plot(min_rand[200], label=\"random\")\n",
    "plt.plot(min_pp[200], label=\"K++\")\n",
    "plt.legend()\n",
    "plt.suptitle('K++ vs Random (min)')\n",
    "plt.xlabel('# Iterations')\n",
    "plt.ylabel('Error')\n",
    "plt.savefig(\"min_comp.pdf\")"
   ]
  },
  {
   "cell_type": "code",
   "execution_count": 76,
   "metadata": {
    "collapsed": true
   },
   "outputs": [],
   "source": [
    "mean_rand = {}\n",
    "with open(\"mean_errs.txt\") as mean_errs_file:\n",
    "    for line in mean_errs_file:\n",
    "        sep = line.split(\",\", 1)\n",
    "        mean_rand[int(sep[0])] = [float(x) for x in sep[1].split(\",\")]\n",
    "        \n",
    "mean_pp = {}\n",
    "with open(\"mean_errs_pp.txt\") as mean_errs_file:\n",
    "    for line in mean_errs_file:\n",
    "        sep = line.split(\",\", 1)\n",
    "        mean_pp[int(sep[0])] = [float(x) for x in sep[1].split(\",\")]"
   ]
  },
  {
   "cell_type": "code",
   "execution_count": 77,
   "metadata": {
    "collapsed": true
   },
   "outputs": [],
   "source": [
    "plt.clf()\n",
    "plt.figure(1)\n",
    "plt.plot(mean_rand[200], label=\"random\")\n",
    "plt.plot(mean_pp[200], label=\"K++\")\n",
    "plt.legend()\n",
    "plt.suptitle('K++ vs Random (mean)')\n",
    "plt.xlabel('# Iterations')\n",
    "plt.ylabel('Error')\n",
    "plt.savefig(\"mean_comp.pdf\")"
   ]
  },
  {
   "cell_type": "code",
   "execution_count": null,
   "metadata": {
    "collapsed": true
   },
   "outputs": [],
   "source": []
  }
 ],
 "metadata": {
  "kernelspec": {
   "display_name": "Python 2",
   "language": "python",
   "name": "python2"
  },
  "language_info": {
   "codemirror_mode": {
    "name": "ipython",
    "version": 2
   },
   "file_extension": ".py",
   "mimetype": "text/x-python",
   "name": "python",
   "nbconvert_exporter": "python",
   "pygments_lexer": "ipython2",
   "version": "2.7.13"
  }
 },
 "nbformat": 4,
 "nbformat_minor": 2
}
