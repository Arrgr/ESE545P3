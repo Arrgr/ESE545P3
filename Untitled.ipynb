{
 "cells": [
  {
   "cell_type": "code",
   "execution_count": 1,
   "metadata": {
    "collapsed": true
   },
   "outputs": [],
   "source": [
    "!pip install numpy\n",
    "!pip install pandas\n",
    "!pip install random\n",
    "!pip install gzip\n",
    "!pip install matplotlib\n",
    "\n",
    "import numpy as np\n",
    "import pandas as pd\n",
    "import gzip\n",
    "import random\n"
   ]
  },
  {
   "cell_type": "code",
   "execution_count": 24,
   "metadata": {},
   "outputs": [
    {
     "name": "stdout",
     "output_type": "stream",
     "text": [
      "[[ 0.  0.  0.  0.  0.  0.]\n",
      " [ 0.  0.  0.  0.  0.  0.]\n",
      " [ 0.  0.  0.  0.  0.  0.]\n",
      " ..., \n",
      " [ 0.  0.  0.  0.  0.  0.]\n",
      " [ 0.  0.  0.  0.  0.  0.]\n",
      " [ 0.  0.  0.  0.  0.  0.]]\n",
      "[[  1.00000000e+00   1.20000000e-05   0.00000000e+00   6.00000000e-06\n",
      "    2.30000000e-05   9.99958000e-01]\n",
      " [  1.00000000e+00   8.89320000e-02   3.91500000e-03   5.92269000e-01\n",
      "    3.14084000e-01   8.01000000e-04]\n",
      " [  1.00000000e+00   2.93000000e-04   2.00000000e-06   4.11000000e-04\n",
      "    7.70000000e-04   9.98524000e-01]\n",
      " [  1.00000000e+00   1.18890000e-02   8.63387000e-01   3.85000000e-04\n",
      "    1.24338000e-01   1.00000000e-06]\n",
      " [  1.00000000e+00   5.40000000e-05   2.00000000e-06   2.20000000e-05\n",
      "    8.70000000e-05   9.99835000e-01]\n",
      " [  1.00000000e+00   4.03000000e-04   9.00000000e-06   1.09000000e-04\n",
      "    2.88000000e-04   9.99191000e-01]\n",
      " [  1.00000000e+00   3.94600000e-01   1.83870000e-02   2.29936000e-01\n",
      "    3.43983000e-01   1.30940000e-02]\n",
      " [  1.00000000e+00   2.37800000e-03   5.70000000e-05   1.28100000e-03\n",
      "    2.89300000e-03   9.93391000e-01]\n",
      " [  1.00000000e+00   1.78600000e-02   2.86000000e-04   8.13900000e-03\n",
      "    1.17030000e-02   9.62012000e-01]\n",
      " [  1.00000000e+00   7.18476000e-01   2.32000000e-02   9.84860000e-02\n",
      "    1.54794000e-01   5.04300000e-03]]\n"
     ]
    }
   ],
   "source": [
    "# part 1\n",
    "# unzip and read the first part of the data into a matrix\n",
    "A = np.zeros((4681992, 6))\n",
    "with gzip.open('ydata-fp-td-clicks-v1_0.20090501.gz', 'r') as f:\n",
    "    for i, line in enumerate(f):\n",
    "        user_features_str = line.split('|', 2)[1]\n",
    "        user_features = user_features_str.split(' ')[1:7]\n",
    "        for feature in user_features:\n",
    "            l = feature.split(':')\n",
    "            A[i, int(l[0]) - 1] = float(l[1])\n",
    "    print(A[:10,:])\n",
    "    #for i, l in enumerate(f):\n",
    "    #    pass\n",
    "    #print(i + 1)\n",
    "    "
   ]
  },
  {
   "cell_type": "code",
   "execution_count": 27,
   "metadata": {},
   "outputs": [
    {
     "name": "stdout",
     "output_type": "stream",
     "text": [
      "[ 1.  0.  0.  0.  0.  0.]\n",
      "[ 1.        0.980105  0.999996  0.999978  0.998366  1.      ]\n"
     ]
    },
    {
     "ename": "TypeError",
     "evalue": "'function' object has no attribute '__getitem__'",
     "output_type": "error",
     "traceback": [
      "\u001b[1;31m---------------------------------------------------------------------------\u001b[0m",
      "\u001b[1;31mTypeError\u001b[0m                                 Traceback (most recent call last)",
      "\u001b[1;32m<ipython-input-27-1c4822bbd0cd>\u001b[0m in \u001b[0;36m<module>\u001b[1;34m()\u001b[0m\n\u001b[0;32m      4\u001b[0m \u001b[1;32mprint\u001b[0m\u001b[1;33m(\u001b[0m\u001b[0mA\u001b[0m\u001b[1;33m.\u001b[0m\u001b[0mmax\u001b[0m\u001b[1;33m(\u001b[0m\u001b[0maxis\u001b[0m\u001b[1;33m=\u001b[0m\u001b[1;36m0\u001b[0m\u001b[1;33m)\u001b[0m\u001b[1;33m)\u001b[0m\u001b[1;33m\u001b[0m\u001b[0m\n\u001b[0;32m      5\u001b[0m \u001b[1;32mfor\u001b[0m \u001b[0mi\u001b[0m \u001b[1;32min\u001b[0m \u001b[0mrange\u001b[0m\u001b[1;33m(\u001b[0m\u001b[1;36m6\u001b[0m\u001b[1;33m)\u001b[0m\u001b[1;33m:\u001b[0m\u001b[1;33m\u001b[0m\u001b[0m\n\u001b[1;32m----> 6\u001b[1;33m     \u001b[0mmins\u001b[0m\u001b[1;33m.\u001b[0m\u001b[0mappend\u001b[0m\u001b[1;33m(\u001b[0m\u001b[0mnp\u001b[0m\u001b[1;33m.\u001b[0m\u001b[0mmin\u001b[0m\u001b[1;33m[\u001b[0m\u001b[1;33m:\u001b[0m\u001b[1;33m,\u001b[0m \u001b[0mi\u001b[0m\u001b[1;33m]\u001b[0m\u001b[1;33m)\u001b[0m\u001b[1;33m\u001b[0m\u001b[0m\n\u001b[0m\u001b[0;32m      7\u001b[0m     \u001b[0mmaxs\u001b[0m\u001b[1;33m.\u001b[0m\u001b[0mappend\u001b[0m\u001b[1;33m(\u001b[0m\u001b[0mnp\u001b[0m\u001b[1;33m.\u001b[0m\u001b[0mmax\u001b[0m\u001b[1;33m[\u001b[0m\u001b[1;33m:\u001b[0m\u001b[1;33m,\u001b[0m \u001b[0mi\u001b[0m\u001b[1;33m]\u001b[0m\u001b[1;33m)\u001b[0m\u001b[1;33m\u001b[0m\u001b[0m\n\u001b[0;32m      8\u001b[0m \u001b[1;32mprint\u001b[0m\u001b[1;33m(\u001b[0m\u001b[0mmins\u001b[0m\u001b[1;33m)\u001b[0m\u001b[1;33m\u001b[0m\u001b[0m\n",
      "\u001b[1;31mTypeError\u001b[0m: 'function' object has no attribute '__getitem__'"
     ]
    }
   ],
   "source": [
    "print(A.min(axis=0))\n",
    "print(A.max(axis=0))"
   ]
  },
  {
   "cell_type": "code",
   "execution_count": 33,
   "metadata": {
    "collapsed": true
   },
   "outputs": [],
   "source": [
    "def init_k_means_rand(k):\n",
    "    centers = []\n",
    "    for i in range(0,k):\n",
    "        centers.append(np.random.rand(1,6))\n",
    "    return centers"
   ]
  },
  {
   "cell_type": "code",
   "execution_count": 30,
   "metadata": {},
   "outputs": [
    {
     "name": "stdout",
     "output_type": "stream",
     "text": [
      "[array([[ 0.34646947,  0.87200817,  0.32807922,  0.54665863,  0.19046307,\n",
      "         0.16103501]]), array([[ 0.25004319,  0.30780597,  0.44612158,  0.25255982,  0.00824231,\n",
      "         0.86287287]]), array([[ 0.29632279,  0.38842702,  0.06048429,  0.32229355,  0.62709258,\n",
      "         0.17476481]])]\n"
     ]
    },
    {
     "data": {
      "text/plain": [
       "[array([[ 0.34646947,  0.87200817,  0.32807922,  0.54665863,  0.19046307,\n",
       "          0.16103501]]),\n",
       " array([[ 0.25004319,  0.30780597,  0.44612158,  0.25255982,  0.00824231,\n",
       "          0.86287287]]),\n",
       " array([[ 0.29632279,  0.38842702,  0.06048429,  0.32229355,  0.62709258,\n",
       "          0.17476481]])]"
      ]
     },
     "execution_count": 30,
     "metadata": {},
     "output_type": "execute_result"
    }
   ],
   "source": [
    "init_k_means_rand(3)"
   ]
  },
  {
   "cell_type": "code",
   "execution_count": 68,
   "metadata": {
    "collapsed": true
   },
   "outputs": [],
   "source": [
    "def cluster_step(features, centers, batch_size, errs):\n",
    "    samp = np.random.randint(features.shape[0], size=batch_size)\n",
    "    new_centers = [np.zeros((1,6)) for k in centers]\n",
    "    centroid_sizes = [0]*len(centers)\n",
    "    err = 0\n",
    "    for i in range(batch_size):\n",
    "        min_dist = 10\n",
    "        closest = -1\n",
    "        for j, vector in enumerate(centers):\n",
    "            d = np.linalg.norm(features[samp[i], :] - vector)\n",
    "            if d < min_dist:\n",
    "                min_dist = d\n",
    "                closest = j\n",
    "        err += min_dist\n",
    "        new_centers[closest] += features[samp[i], :]\n",
    "        centroid_sizes[closest] += 1\n",
    "    errs.append(err)\n",
    "    for i, vector in enumerate(new_centers):\n",
    "        if not centroid_sizes[i] == 0:\n",
    "            vector /= centroid_sizes[i]\n",
    "    return new_centers"
   ]
  },
  {
   "cell_type": "code",
   "execution_count": null,
   "metadata": {},
   "outputs": [],
   "source": [
    "errors = {}\n",
    "k_vals = [5, 25, 75, 150, 300, 500]\n",
    "for k in k_vals:\n",
    "    errs = []\n",
    "    centers = init_k_means_rand(k)\n",
    "    for i in range(30):\n",
    "        nc = cluster_step(A, centers, 100000, errs)\n",
    "        dist_sum = 0\n",
    "        for i in range(len(centers)):\n",
    "            dist_sum += np.linalg.norm(centers[i] - nc[i])\n",
    "        centers = nc\n",
    "    errors[k] = errs"
   ]
  },
  {
   "cell_type": "code",
   "execution_count": 63,
   "metadata": {},
   "outputs": [
    {
     "name": "stdout",
     "output_type": "stream",
     "text": [
      "[62205.771357781501, 27237.414923304194, 23585.761111293985, 20110.782799882381, 19449.942981662924, 19409.122299975101, 19359.347181885983, 19380.450758966996, 19365.435963145534, 19353.290380832295, 19344.015583253553, 19378.492944968297, 19373.291075268633, 19422.422075364215, 19351.974276646688, 19358.154973158344, 19328.126311419386, 19322.39385325283, 19356.833499468023, 19391.494235984035, 19353.219921861677, 19302.326103346226, 19425.374862168643, 19373.824606932496, 19420.395037925824, 19289.979183905325, 19421.351986188824, 19390.539225623437, 19405.453074651672, 19419.839915071989, 19371.822332663967, 19303.843704620245, 19394.792313857295, 19383.740367805272, 19390.145095716012, 19355.121720231575, 19424.567148496331, 19408.173458667028, 19359.48875474192, 19368.015446808553, 19437.638627088101, 19419.712420424934, 19424.904880960432, 19375.27194611519, 19450.625679012333, 19332.912115168507, 19334.471981148545, 19440.568902198414, 19415.649568515604, 19346.105103237351, 19395.540582920421, 19359.552852790068, 19338.309841393144, 19374.375081973063, 19394.87588426585, 19368.708152771127, 19333.373434821016, 19377.966984865936, 19297.79090859467, 19406.72521873239]\n"
     ]
    }
   ],
   "source": [
    "print(errs)"
   ]
  },
  {
   "cell_type": "code",
   "execution_count": 64,
   "metadata": {
    "collapsed": true
   },
   "outputs": [],
   "source": [
    "import matplotlib.pyplot as plt"
   ]
  },
  {
   "cell_type": "code",
   "execution_count": 67,
   "metadata": {},
   "outputs": [
    {
     "data": {
      "image/png": "[encoded data removed]",
      "text/plain": [
       "<matplotlib.figure.Figure at 0x18ecb908>"
      ]
     },
     "metadata": {},
     "output_type": "display_data"
    }
   ],
   "source": [
    "errpct = [x/100000 for x in errs]\n",
    "plt.plot(errpct[1:])\n",
    "plt.show()"
   ]
  },
  {
   "cell_type": "code",
   "execution_count": null,
   "metadata": {
    "collapsed": true
   },
   "outputs": [],
   "source": []
  }
 ],
 "metadata": {
  "kernelspec": {
   "display_name": "Python 2",
   "language": "python",
   "name": "python2"
  },
  "language_info": {
   "codemirror_mode": {
    "name": "ipython",
    "version": 2
   },
   "file_extension": ".py",
   "mimetype": "text/x-python",
   "name": "python",
   "nbconvert_exporter": "python",
   "pygments_lexer": "ipython2",
   "version": "2.7.13"
  }
 },
 "nbformat": 4,
 "nbformat_minor": 2
}
