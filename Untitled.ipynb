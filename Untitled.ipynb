{
 "cells": [
  {
   "cell_type": "code",
   "execution_count": 1,
   "metadata": {},
   "outputs": [
    {
     "name": "stdout",
     "output_type": "stream",
     "text": [
      "Requirement already satisfied: numpy in c:\\anaconda2\\lib\\site-packages\n",
      "Requirement already satisfied: pandas in c:\\anaconda2\\lib\\site-packages\n",
      "Requirement already satisfied: python-dateutil in c:\\anaconda2\\lib\\site-packages (from pandas)\n",
      "Requirement already satisfied: pytz>=2011k in c:\\anaconda2\\lib\\site-packages (from pandas)\n",
      "Requirement already satisfied: numpy>=1.7.0 in c:\\anaconda2\\lib\\site-packages (from pandas)\n",
      "Requirement already satisfied: six>=1.5 in c:\\anaconda2\\lib\\site-packages (from python-dateutil->pandas)\n",
      "Collecting random\n"
     ]
    },
    {
     "name": "stderr",
     "output_type": "stream",
     "text": [
      "  Could not find a version that satisfies the requirement random (from versions: )\n",
      "No matching distribution found for random\n"
     ]
    },
    {
     "name": "stdout",
     "output_type": "stream",
     "text": [
      "Collecting gzip\n"
     ]
    },
    {
     "name": "stderr",
     "output_type": "stream",
     "text": [
      "  Could not find a version that satisfies the requirement gzip (from versions: )\n",
      "No matching distribution found for gzip\n"
     ]
    },
    {
     "name": "stdout",
     "output_type": "stream",
     "text": [
      "Requirement already satisfied: matplotlib in c:\\anaconda2\\lib\\site-packages\n",
      "Requirement already satisfied: numpy>=1.7.1 in c:\\anaconda2\\lib\\site-packages (from matplotlib)\n",
      "Requirement already satisfied: six>=1.10 in c:\\anaconda2\\lib\\site-packages (from matplotlib)\n",
      "Requirement already satisfied: python-dateutil in c:\\anaconda2\\lib\\site-packages (from matplotlib)\n",
      "Requirement already satisfied: functools32 in c:\\anaconda2\\lib\\site-packages (from matplotlib)\n",
      "Requirement already satisfied: pytz in c:\\anaconda2\\lib\\site-packages (from matplotlib)\n",
      "Requirement already satisfied: cycler>=0.10 in c:\\anaconda2\\lib\\site-packages (from matplotlib)\n",
      "Requirement already satisfied: pyparsing!=2.0.4,!=2.1.2,!=2.1.6,>=1.5.6 in c:\\anaconda2\\lib\\site-packages (from matplotlib)\n"
     ]
    }
   ],
   "source": [
    "!pip install numpy\n",
    "!pip install pandas\n",
    "!pip install random\n",
    "!pip install gzip\n",
    "!pip install matplotlib\n",
    "\n",
    "import numpy as np\n",
    "import pandas as pd\n",
    "import gzip\n",
    "import random\n"
   ]
  },
  {
   "cell_type": "code",
   "execution_count": 2,
   "metadata": {},
   "outputs": [
    {
     "name": "stdout",
     "output_type": "stream",
     "text": [
      "[[  1.00000000e+00   1.20000000e-05   0.00000000e+00   6.00000000e-06\n",
      "    2.30000000e-05   9.99958000e-01]\n",
      " [  1.00000000e+00   8.89320000e-02   3.91500000e-03   5.92269000e-01\n",
      "    3.14084000e-01   8.01000000e-04]\n",
      " [  1.00000000e+00   2.93000000e-04   2.00000000e-06   4.11000000e-04\n",
      "    7.70000000e-04   9.98524000e-01]\n",
      " [  1.00000000e+00   1.18890000e-02   8.63387000e-01   3.85000000e-04\n",
      "    1.24338000e-01   1.00000000e-06]\n",
      " [  1.00000000e+00   5.40000000e-05   2.00000000e-06   2.20000000e-05\n",
      "    8.70000000e-05   9.99835000e-01]\n",
      " [  1.00000000e+00   4.03000000e-04   9.00000000e-06   1.09000000e-04\n",
      "    2.88000000e-04   9.99191000e-01]\n",
      " [  1.00000000e+00   3.94600000e-01   1.83870000e-02   2.29936000e-01\n",
      "    3.43983000e-01   1.30940000e-02]\n",
      " [  1.00000000e+00   2.37800000e-03   5.70000000e-05   1.28100000e-03\n",
      "    2.89300000e-03   9.93391000e-01]\n",
      " [  1.00000000e+00   1.78600000e-02   2.86000000e-04   8.13900000e-03\n",
      "    1.17030000e-02   9.62012000e-01]\n",
      " [  1.00000000e+00   7.18476000e-01   2.32000000e-02   9.84860000e-02\n",
      "    1.54794000e-01   5.04300000e-03]]\n"
     ]
    }
   ],
   "source": [
    "# part 1\n",
    "# unzip and read the first part of the data into a matrix\n",
    "A = np.zeros((4681992, 6))\n",
    "with gzip.open('ydata-fp-td-clicks-v1_0.20090501.gz', 'r') as f:\n",
    "    for i, line in enumerate(f):\n",
    "        user_features_str = line.split('|', 2)[1]\n",
    "        user_features = user_features_str.split(' ')[1:7]\n",
    "        for feature in user_features:\n",
    "            l = feature.split(':')\n",
    "            A[i, int(l[0]) - 1] = float(l[1])\n",
    "    print(A[:10,:])\n",
    "    #for i, l in enumerate(f):\n",
    "    #    pass\n",
    "    #print(i + 1)\n",
    "    "
   ]
  },
  {
   "cell_type": "code",
   "execution_count": 10,
   "metadata": {},
   "outputs": [
    {
     "name": "stdout",
     "output_type": "stream",
     "text": [
      "[ 1.  0.  0.  0.  0.  0.]\n",
      "[ 1.        0.980105  0.999996  0.999978  0.998366  1.      ]\n"
     ]
    }
   ],
   "source": [
    "print(A.min(axis=0))\n",
    "print(A.max(axis=0))"
   ]
  },
  {
   "cell_type": "code",
   "execution_count": 4,
   "metadata": {
    "collapsed": true
   },
   "outputs": [],
   "source": [
    "def init_k_means_rand(k):\n",
    "    centers = []\n",
    "    for i in range(0,k):\n",
    "        centers.append(np.random.rand(1,6))\n",
    "    return centers"
   ]
  },
  {
   "cell_type": "code",
   "execution_count": 18,
   "metadata": {},
   "outputs": [],
   "source": [
    "def k_means_pp(k, vects):\n",
    "    centers = []\n",
    "    probs = np.zeros((4681992,1))\n",
    "    tot = 0\n",
    "    #pick first center uniformly at random in R6\n",
    "    centers.append(np.random.rand(1,6))\n",
    "    \n",
    "    #Calculate the distance between each point and the random center\n",
    "    for i in range(probs.shape[0]):\n",
    "        probs[i] = np.linalg.norm(vects[i]-centers[0])\n",
    "        #calculate the summation which will be used to calculate the probability\n",
    "        #dist\n",
    "        tot += probs[i]\n",
    "        \n",
    "    #Calculate the probability distribution\n",
    "    if tot > 1:\n",
    "        for i in range(probs.shape[0]):\n",
    "            probs[i] /= tot\n",
    "    \n",
    "    #Sample the remaining k-1 centers\n",
    "    rand = np.random.rand(k-1,1)\n",
    "    for i in range(rand.shape[0]):\n",
    "        counter = 0\n",
    "        j = -1\n",
    "        while counter <= rand[i]:\n",
    "            j += 1\n",
    "            counter += probs[j]\n",
    "        centers.append(vects[j,:])\n",
    "\n",
    "    return centers\n",
    "        \n",
    "        \n",
    "    \n",
    "        \n",
    "        \n",
    "    \n",
    "        \n",
    "    \n",
    "    "
   ]
  },
  {
   "cell_type": "code",
   "execution_count": 20,
   "metadata": {
    "scrolled": true
   },
   "outputs": [
    {
     "data": {
      "text/plain": [
       "[array([[ 0.70645528,  0.59267502,  0.42283069,  0.45865177,  0.7700263 ,\n",
       "          0.03158721]]),\n",
       " array([  1.00000000e+00,   4.38904000e-01,   1.59485000e-01,\n",
       "          3.31350000e-02,   3.68263000e-01,   2.13000000e-04]),\n",
       " array([ 1.      ,  0.074732,  0.01403 ,  0.003429,  0.021566,  0.886242]),\n",
       " array([  1.00000000e+00,   6.29330000e-02,   6.22800000e-03,\n",
       "          3.11205000e-01,   6.19326000e-01,   3.08000000e-04]),\n",
       " array([  1.00000000e+00,   5.94138000e-01,   1.04893000e-01,\n",
       "          3.95310000e-02,   2.60607000e-01,   8.30000000e-04]),\n",
       " array([ 1.      ,  0.213558,  0.67064 ,  0.001153,  0.112731,  0.001917]),\n",
       " array([  1.00000000e+00,   3.30000000e-05,   1.00000000e-06,\n",
       "          4.30000000e-05,   1.85000000e-04,   9.99738000e-01]),\n",
       " array([ 1.      ,  0.077511,  0.023872,  0.036818,  0.858969,  0.00283 ]),\n",
       " array([ 1.      ,  0.517478,  0.056532,  0.063142,  0.349817,  0.013031]),\n",
       " array([  1.00000000e+00,   7.49000000e-03,   7.10000000e-05,\n",
       "          8.94745000e-01,   9.76670000e-02,   2.60000000e-05]),\n",
       " array([  1.00000000e+00,   7.11600000e-03,   4.10000000e-04,\n",
       "          1.59500000e-03,   9.28300000e-03,   9.81597000e-01]),\n",
       " array([ 1.      ,  0.508968,  0.008051,  0.378061,  0.102737,  0.002183]),\n",
       " array([ 1.      ,  0.553029,  0.045877,  0.094129,  0.291508,  0.015457]),\n",
       " array([  1.00000000e+00,   1.27000000e-04,   2.00000000e-06,\n",
       "          4.50000000e-05,   1.24000000e-04,   9.99701000e-01]),\n",
       " array([  1.00000000e+00,   1.83450000e-02,   6.50000000e-05,\n",
       "          1.13839000e-01,   1.59920000e-02,   8.51759000e-01]),\n",
       " array([  1.00000000e+00,   2.72417000e-01,   6.28960000e-02,\n",
       "          1.03133000e-01,   5.61511000e-01,   4.30000000e-05]),\n",
       " array([  1.00000000e+00,   5.30000000e-05,   0.00000000e+00,\n",
       "          9.82700000e-03,   6.25600000e-03,   9.83865000e-01]),\n",
       " array([ 1.      ,  0.388093,  0.013004,  0.047771,  0.007439,  0.543694]),\n",
       " array([  1.00000000e+00,   1.19470000e-01,   8.39345000e-01,\n",
       "          9.56000000e-04,   4.01950000e-02,   3.50000000e-05]),\n",
       " array([  1.00000000e+00,   1.75200000e-03,   9.10000000e-05,\n",
       "          2.30000000e-04,   1.02100000e-03,   9.96906000e-01]),\n",
       " array([  1.00000000e+00,   3.38500000e-03,   3.30000000e-05,\n",
       "          8.92590000e-01,   1.03991000e-01,   1.00000000e-06]),\n",
       " array([  1.00000000e+00,   4.90900000e-03,   8.90011000e-01,\n",
       "          3.50000000e-05,   1.05044000e-01,   1.00000000e-06]),\n",
       " array([  1.00000000e+00,   2.05393000e-01,   4.23000000e-04,\n",
       "          7.45406000e-01,   4.85620000e-02,   2.16000000e-04]),\n",
       " array([  1.00000000e+00,   1.64181000e-01,   7.79202000e-01,\n",
       "          6.22000000e-04,   5.54550000e-02,   5.39000000e-04]),\n",
       " array([  1.00000000e+00,   1.18000000e-04,   0.00000000e+00,\n",
       "          9.99149000e-01,   7.33000000e-04,   0.00000000e+00]),\n",
       " array([ 1.      ,  0.218228,  0.048677,  0.020203,  0.066291,  0.646601]),\n",
       " array([  1.00000000e+00,   1.85902000e-01,   1.89871000e-01,\n",
       "          2.64150000e-02,   5.97102000e-01,   7.10000000e-04]),\n",
       " array([  1.00000000e+00,   6.58000000e-04,   1.00000000e-05,\n",
       "          2.20000000e-04,   4.16000000e-04,   9.98696000e-01]),\n",
       " array([  1.00000000e+00,   2.54479000e-01,   2.29900000e-02,\n",
       "          4.31350000e-01,   2.91095000e-01,   8.50000000e-05]),\n",
       " array([ 1.      ,  0.022323,  0.001504,  0.003602,  0.021223,  0.951348])]"
      ]
     },
     "execution_count": 20,
     "metadata": {},
     "output_type": "execute_result"
    }
   ],
   "source": [
    "k_means_pp(30,A)"
   ]
  },
  {
   "cell_type": "code",
   "execution_count": 6,
   "metadata": {
    "collapsed": true
   },
   "outputs": [],
   "source": [
    "def cluster_step(features, centers, batch_size, errs):\n",
    "    samp = np.random.randint(features.shape[0], size=batch_size)\n",
    "    new_centers = [np.zeros((1,6)) for k in centers]\n",
    "    centroid_sizes = [0]*len(centers)\n",
    "    err = 0\n",
    "    for i in range(batch_size):\n",
    "        min_dist = 10\n",
    "        closest = -1\n",
    "        for j, vector in enumerate(centers):\n",
    "            d = np.linalg.norm(features[samp[i], :] - vector)\n",
    "            if d < min_dist:\n",
    "                min_dist = d\n",
    "                closest = j\n",
    "        err += min_dist\n",
    "        new_centers[closest] += features[samp[i], :]\n",
    "        centroid_sizes[closest] += 1\n",
    "    errs.append(err)\n",
    "    for i, vector in enumerate(new_centers):\n",
    "        if not centroid_sizes[i] == 0:\n",
    "            vector /= centroid_sizes[i]\n",
    "    return new_centers"
   ]
  },
  {
   "cell_type": "code",
   "execution_count": 7,
   "metadata": {},
   "outputs": [
    {
     "ename": "KeyboardInterrupt",
     "evalue": "",
     "output_type": "error",
     "traceback": [
      "\u001b[1;31m---------------------------------------------------------------------------\u001b[0m",
      "\u001b[1;31mKeyboardInterrupt\u001b[0m                         Traceback (most recent call last)",
      "\u001b[1;32m<ipython-input-7-529f57b75201>\u001b[0m in \u001b[0;36m<module>\u001b[1;34m()\u001b[0m\n\u001b[0;32m      5\u001b[0m     \u001b[0mcenters\u001b[0m \u001b[1;33m=\u001b[0m \u001b[0minit_k_means_rand\u001b[0m\u001b[1;33m(\u001b[0m\u001b[0mk\u001b[0m\u001b[1;33m)\u001b[0m\u001b[1;33m\u001b[0m\u001b[0m\n\u001b[0;32m      6\u001b[0m     \u001b[1;32mfor\u001b[0m \u001b[0mi\u001b[0m \u001b[1;32min\u001b[0m \u001b[0mrange\u001b[0m\u001b[1;33m(\u001b[0m\u001b[1;36m30\u001b[0m\u001b[1;33m)\u001b[0m\u001b[1;33m:\u001b[0m\u001b[1;33m\u001b[0m\u001b[0m\n\u001b[1;32m----> 7\u001b[1;33m         \u001b[0mnc\u001b[0m \u001b[1;33m=\u001b[0m \u001b[0mcluster_step\u001b[0m\u001b[1;33m(\u001b[0m\u001b[0mA\u001b[0m\u001b[1;33m,\u001b[0m \u001b[0mcenters\u001b[0m\u001b[1;33m,\u001b[0m \u001b[1;36m100000\u001b[0m\u001b[1;33m,\u001b[0m \u001b[0merrs\u001b[0m\u001b[1;33m)\u001b[0m\u001b[1;33m\u001b[0m\u001b[0m\n\u001b[0m\u001b[0;32m      8\u001b[0m         \u001b[0mdist_sum\u001b[0m \u001b[1;33m=\u001b[0m \u001b[1;36m0\u001b[0m\u001b[1;33m\u001b[0m\u001b[0m\n\u001b[0;32m      9\u001b[0m         \u001b[1;32mfor\u001b[0m \u001b[0mi\u001b[0m \u001b[1;32min\u001b[0m \u001b[0mrange\u001b[0m\u001b[1;33m(\u001b[0m\u001b[0mlen\u001b[0m\u001b[1;33m(\u001b[0m\u001b[0mcenters\u001b[0m\u001b[1;33m)\u001b[0m\u001b[1;33m)\u001b[0m\u001b[1;33m:\u001b[0m\u001b[1;33m\u001b[0m\u001b[0m\n",
      "\u001b[1;32m<ipython-input-6-f25e7f5a0750>\u001b[0m in \u001b[0;36mcluster_step\u001b[1;34m(features, centers, batch_size, errs)\u001b[0m\n\u001b[0;32m      8\u001b[0m         \u001b[0mclosest\u001b[0m \u001b[1;33m=\u001b[0m \u001b[1;33m-\u001b[0m\u001b[1;36m1\u001b[0m\u001b[1;33m\u001b[0m\u001b[0m\n\u001b[0;32m      9\u001b[0m         \u001b[1;32mfor\u001b[0m \u001b[0mj\u001b[0m\u001b[1;33m,\u001b[0m \u001b[0mvector\u001b[0m \u001b[1;32min\u001b[0m \u001b[0menumerate\u001b[0m\u001b[1;33m(\u001b[0m\u001b[0mcenters\u001b[0m\u001b[1;33m)\u001b[0m\u001b[1;33m:\u001b[0m\u001b[1;33m\u001b[0m\u001b[0m\n\u001b[1;32m---> 10\u001b[1;33m             \u001b[0md\u001b[0m \u001b[1;33m=\u001b[0m \u001b[0mnp\u001b[0m\u001b[1;33m.\u001b[0m\u001b[0mlinalg\u001b[0m\u001b[1;33m.\u001b[0m\u001b[0mnorm\u001b[0m\u001b[1;33m(\u001b[0m\u001b[0mfeatures\u001b[0m\u001b[1;33m[\u001b[0m\u001b[0msamp\u001b[0m\u001b[1;33m[\u001b[0m\u001b[0mi\u001b[0m\u001b[1;33m]\u001b[0m\u001b[1;33m,\u001b[0m \u001b[1;33m:\u001b[0m\u001b[1;33m]\u001b[0m \u001b[1;33m-\u001b[0m \u001b[0mvector\u001b[0m\u001b[1;33m)\u001b[0m\u001b[1;33m\u001b[0m\u001b[0m\n\u001b[0m\u001b[0;32m     11\u001b[0m             \u001b[1;32mif\u001b[0m \u001b[0md\u001b[0m \u001b[1;33m<\u001b[0m \u001b[0mmin_dist\u001b[0m\u001b[1;33m:\u001b[0m\u001b[1;33m\u001b[0m\u001b[0m\n\u001b[0;32m     12\u001b[0m                 \u001b[0mmin_dist\u001b[0m \u001b[1;33m=\u001b[0m \u001b[0md\u001b[0m\u001b[1;33m\u001b[0m\u001b[0m\n",
      "\u001b[1;31mKeyboardInterrupt\u001b[0m: "
     ]
    }
   ],
   "source": [
    "errors = {}\n",
    "k_vals = [5, 25, 75, 150, 300, 500]\n",
    "for k in k_vals:\n",
    "    errs = []\n",
    "    centers = init_k_means_rand(k)\n",
    "    for i in range(30):\n",
    "        nc = cluster_step(A, centers, 100000, errs)\n",
    "        dist_sum = 0\n",
    "        for i in range(len(centers)):\n",
    "            dist_sum += np.linalg.norm(centers[i] - nc[i])\n",
    "        centers = nc\n",
    "    errors[k] = errs"
   ]
  },
  {
   "cell_type": "code",
   "execution_count": null,
   "metadata": {},
   "outputs": [],
   "source": [
    "errors = {}\n",
    "k_vals = [5, 10, 15]\n",
    "for k in k_vals:\n",
    "    errs = []\n",
    "    centers = k_means_pp(k,A)\n",
    "    for i in range(30):\n",
    "        nc = cluster_step(A, centers, 100000, errs)\n",
    "        dist_sum = 0\n",
    "        for i in range(len(centers)):\n",
    "            dist_sum += np.linalg.norm(centers[i] - nc[i])\n",
    "        centers = nc\n",
    "    errors[k] = errs"
   ]
  },
  {
   "cell_type": "code",
   "execution_count": 76,
   "metadata": {},
   "outputs": [
    {
     "name": "stdout",
     "output_type": "stream",
     "text": [
      "[25, 75, 5, 150]\n"
     ]
    }
   ],
   "source": [
    "print(errors.keys())\n",
    "with open(\"errs.txt\", \"w\") as f:\n",
    "    for k in errors.keys():\n",
    "        s = str(k) + \",\"\n",
    "        s += \",\".join([str(x) for x in errors[k]])\n",
    "        s += \"\\n\"\n",
    "        f.write(s)"
   ]
  },
  {
   "cell_type": "code",
   "execution_count": 64,
   "metadata": {
    "collapsed": true
   },
   "outputs": [],
   "source": [
    "import matplotlib.pyplot as plt"
   ]
  },
  {
   "cell_type": "code",
   "execution_count": 85,
   "metadata": {},
   "outputs": [
    {
     "data": {
      "image/png": "[encoded data removed]",
      "text/plain": [
       "<matplotlib.figure.Figure at 0x191269e8>"
      ]
     },
     "metadata": {},
     "output_type": "display_data"
    }
   ],
   "source": [
    "\n",
    "plt.plot([x/100000 for x in errors[5][1:]], label=\"k=5\")\n",
    "plt.plot([x/100000 for x in errors[25][1:]], label=\"k=25\")\n",
    "plt.plot([x/100000 for x in errors[75][1:]], label=\"k=75\")\n",
    "plt.plot([x/100000 for x in errors[150][1:]], label=\"k=150\")\n",
    "plt.legend()\n",
    "plt.show()\n",
    "plt.savefig(\"mean_ks.pdf\")"
   ]
  },
  {
   "cell_type": "code",
   "execution_count": null,
   "metadata": {
    "collapsed": true
   },
   "outputs": [],
   "source": []
  }
 ],
 "metadata": {
  "kernelspec": {
   "display_name": "Python 2",
   "language": "python",
   "name": "python2"
  },
  "language_info": {
   "codemirror_mode": {
    "name": "ipython",
    "version": 2
   },
   "file_extension": ".py",
   "mimetype": "text/x-python",
   "name": "python",
   "nbconvert_exporter": "python",
   "pygments_lexer": "ipython2",
   "version": "2.7.13"
  }
 },
 "nbformat": 4,
 "nbformat_minor": 2
}
